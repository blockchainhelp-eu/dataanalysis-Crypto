{
 "cells": [
  {
   "cell_type": "markdown",
   "metadata": {},
   "source": [
    "# Statistics: The Science of Decisions Project Instructions"
   ]
  },
  {
   "cell_type": "markdown",
   "metadata": {},
   "source": [
    "## Background Information\n",
    "\n",
    "In a Stroop task, participants are presented with a list of words, with each word displayed in a color of ink. The participant’s task is to say out loud the color of the ink in which the word is printed. The task has two conditions: a congruent words condition, and an incongruent words condition. In the congruent words condition, the words being displayed are color words whose names match the colors in which they are printed: for example RED, BLUE. In the incongruent words condition, the words displayed are color words whose names do not match the colors in which they are printed: for example PURPLE, ORANGE. In each case, we measure the time it takes to name the ink colors in equally-sized lists. Each participant will go through and record a time from each condition."
   ]
  },
  {
   "cell_type": "markdown",
   "metadata": {},
   "source": [
    "## Questions For Investigation"
   ]
  },
  {
   "cell_type": "markdown",
   "metadata": {},
   "source": [
    "#### 1. What is our independent variable? What is our dependent variable?"
   ]
  },
  {
   "cell_type": "markdown",
   "metadata": {},
   "source": [
    "Independent variable: Word congruence (whether color of the word matches the definition of the word)\n",
    "\n",
    "Dependent variable: Time taken to name the ink colors of the words"
   ]
  },
  {
   "cell_type": "markdown",
   "metadata": {},
   "source": [
    "#### 2. What is an appropriate set of hypotheses for,  this task? What kind of statistical test do you expect to perform? Justify your choices."
   ]
  },
  {
   "cell_type": "markdown",
   "metadata": {},
   "source": [
    "Null Hypothesis, H0 - Congruence of the word has no effect on the mean population time taken to name the ink colors of the words\n",
    "\n",
    "Alternative Hypothesis, H1 - Words where their definition not congruent with its ink color will increase the mean population time taken to name of the ink colors of the words\n",
    "\n",
    "H0: μ = μ0 (same mean population time)\n",
    "H1: μ > μ0 (a upper-tailed test) (mean populataion time for incongruent words are longer than congruent words)\n",
    "\n",
    "A one-tail paired t-test will be carried out to study whether there are significant difference in time taken to identify the ink colors of the words due to congruence. A t-test is used instead of a Z-test as the population parameters are unknown.\n",
    "\n",
    "An alpha, α = 0.05 is used as a threshold whether to reject or accept the null hypothesis."
   ]
  },
  {
   "cell_type": "markdown",
   "metadata": {},
   "source": [
    "#### 3. Report some descriptive statistics regarding this dataset. Include at least one measure of central tendency and at least one measure of variability.\n",
    "\n"
   ]
  },
  {
   "cell_type": "code",
   "execution_count": 1,
   "metadata": {
    "collapsed": true
   },
   "outputs": [],
   "source": [
    "'''Importing all required libraries'''\n",
    "import pandas as pd\n",
    "import numpy as np\n",
    "import matplotlib.pyplot as plt\n",
    "%matplotlib inline"
   ]
  },
  {
   "cell_type": "code",
   "execution_count": 2,
   "metadata": {},
   "outputs": [
    {
     "name": "stdout",
     "output_type": "stream",
     "text": [
      "    Congruent  Incongruent  Mean Difference\n",
      "0      12.079       19.278            7.199\n",
      "1      16.791       18.741            1.950\n",
      "2       9.564       21.214           11.650\n",
      "3       8.630       15.687            7.057\n",
      "4      14.669       22.803            8.134\n",
      "5      12.238       20.878            8.640\n",
      "6      14.692       24.572            9.880\n",
      "7       8.987       17.394            8.407\n",
      "8       9.401       20.762           11.361\n",
      "9      14.480       26.282           11.802\n",
      "10     22.328       24.524            2.196\n",
      "11     15.298       18.644            3.346\n",
      "12     15.073       17.510            2.437\n",
      "13     16.929       20.330            3.401\n",
      "14     18.200       35.255           17.055\n",
      "15     12.130       22.158           10.028\n",
      "16     18.495       25.139            6.644\n",
      "17     10.639       20.429            9.790\n",
      "18     11.344       17.425            6.081\n",
      "19     12.369       34.288           21.919\n",
      "20     12.944       23.894           10.950\n",
      "21     14.233       17.960            3.727\n",
      "22     19.710       22.058            2.348\n",
      "23     16.004       21.157            5.153\n"
     ]
    }
   ],
   "source": [
    "stroop = pd.read_csv(\"stroopdata.csv\")\n",
    "stroop['Mean Difference'] = stroop['Incongruent'] - stroop['Congruent'] #A new column for population is created by adding up female and male pop.\n",
    "print(stroop)"
   ]
  },
  {
   "cell_type": "code",
   "execution_count": 3,
   "metadata": {},
   "outputs": [
    {
     "data": {
      "text/html": [
       "<div>\n",
       "<table border=\"1\" class=\"dataframe\">\n",
       "  <thead>\n",
       "    <tr style=\"text-align: right;\">\n",
       "      <th></th>\n",
       "      <th>Congruent</th>\n",
       "      <th>Incongruent</th>\n",
       "      <th>Mean Difference</th>\n",
       "    </tr>\n",
       "  </thead>\n",
       "  <tbody>\n",
       "    <tr>\n",
       "      <th>count</th>\n",
       "      <td>24.000000</td>\n",
       "      <td>24.000000</td>\n",
       "      <td>24.000000</td>\n",
       "    </tr>\n",
       "    <tr>\n",
       "      <th>mean</th>\n",
       "      <td>14.051125</td>\n",
       "      <td>22.015917</td>\n",
       "      <td>7.964792</td>\n",
       "    </tr>\n",
       "    <tr>\n",
       "      <th>std</th>\n",
       "      <td>3.559358</td>\n",
       "      <td>4.797057</td>\n",
       "      <td>4.864827</td>\n",
       "    </tr>\n",
       "    <tr>\n",
       "      <th>min</th>\n",
       "      <td>8.630000</td>\n",
       "      <td>15.687000</td>\n",
       "      <td>1.950000</td>\n",
       "    </tr>\n",
       "    <tr>\n",
       "      <th>25%</th>\n",
       "      <td>11.895250</td>\n",
       "      <td>18.716750</td>\n",
       "      <td>3.645500</td>\n",
       "    </tr>\n",
       "    <tr>\n",
       "      <th>50%</th>\n",
       "      <td>14.356500</td>\n",
       "      <td>21.017500</td>\n",
       "      <td>7.666500</td>\n",
       "    </tr>\n",
       "    <tr>\n",
       "      <th>75%</th>\n",
       "      <td>16.200750</td>\n",
       "      <td>24.051500</td>\n",
       "      <td>10.258500</td>\n",
       "    </tr>\n",
       "    <tr>\n",
       "      <th>max</th>\n",
       "      <td>22.328000</td>\n",
       "      <td>35.255000</td>\n",
       "      <td>21.919000</td>\n",
       "    </tr>\n",
       "  </tbody>\n",
       "</table>\n",
       "</div>"
      ],
      "text/plain": [
       "       Congruent  Incongruent  Mean Difference\n",
       "count  24.000000    24.000000        24.000000\n",
       "mean   14.051125    22.015917         7.964792\n",
       "std     3.559358     4.797057         4.864827\n",
       "min     8.630000    15.687000         1.950000\n",
       "25%    11.895250    18.716750         3.645500\n",
       "50%    14.356500    21.017500         7.666500\n",
       "75%    16.200750    24.051500        10.258500\n",
       "max    22.328000    35.255000        21.919000"
      ]
     },
     "execution_count": 3,
     "metadata": {},
     "output_type": "execute_result"
    }
   ],
   "source": [
    "stroop.describe()"
   ]
  },
  {
   "cell_type": "code",
   "execution_count": 4,
   "metadata": {},
   "outputs": [
    {
     "data": {
      "text/plain": [
       "Congruent          14.3565\n",
       "Incongruent        21.0175\n",
       "Mean Difference     7.6665\n",
       "dtype: float64"
      ]
     },
     "execution_count": 4,
     "metadata": {},
     "output_type": "execute_result"
    }
   ],
   "source": [
    "stroop.median()"
   ]
  },
  {
   "cell_type": "markdown",
   "metadata": {},
   "source": [
    "Median is chosen as the measure of central tendency.\n",
    "\n",
    "Standard deviation is chosen as the measure of variability."
   ]
  },
  {
   "cell_type": "markdown",
   "metadata": {},
   "source": [
    "#### 4. Provide one or two visualizations that show the distribution of the sample data. Write one or two sentences noting what you observe about the plot or plots."
   ]
  },
  {
   "cell_type": "code",
   "execution_count": 5,
   "metadata": {},
   "outputs": [
    {
     "data": {
      "text/plain": [
       "array([[<matplotlib.axes._subplots.AxesSubplot object at 0x000000000A82DA58>,\n",
       "        <matplotlib.axes._subplots.AxesSubplot object at 0x0000000006C25080>],\n",
       "       [<matplotlib.axes._subplots.AxesSubplot object at 0x000000000B034B38>,\n",
       "        <matplotlib.axes._subplots.AxesSubplot object at 0x000000000B1D51D0>]], dtype=object)"
      ]
     },
     "execution_count": 5,
     "metadata": {},
     "output_type": "execute_result"
    },
    {
     "data": {
      "image/png": "[encoded data removed]",
      "text/plain": [
       "<matplotlib.figure.Figure at 0xaf38550>"
      ]
     },
     "metadata": {},
     "output_type": "display_data"
    }
   ],
   "source": [
    "stroop.hist()"
   ]
  },
  {
   "cell_type": "markdown",
   "metadata": {},
   "source": [
    "It can be observed that time taken for incongruent test are in general longer than congruent test evident by the range of the data.\n",
    "\n",
    "In congruent test, the time taken ranges from 8 seconds to 22 seconds and majority of the time taken is less than 14 seconds.\n",
    "\n",
    "In incongruent test, the range start from 15 seconds to 35 seconds and majority of the time taken us around 15 seconds to 25 seconds."
   ]
  },
  {
   "cell_type": "markdown",
   "metadata": {},
   "source": [
    "#### 5. Now, perform the statistical test and report your results. What is your confidence level and your critical statistic value? Do you reject the null hypothesis or fail to reject it? Come to a conclusion in terms of the experiment task. Did the results match up with your expectations?"
   ]
  },
  {
   "cell_type": "markdown",
   "metadata": {},
   "source": [
    "α = **0.05**\n",
    "\n",
    "df = **23**\n",
    "\n",
    "t-critical = **1.714**\n",
    "\n",
    "SE = stdev_(b-a) / √n\n",
    "    = 4.86 / √24  = **0.99**\n",
    "\n",
    "t-statistic = mean difference / (stdev_(b-a) / sqrt(n)) = 7.96 / (4.86 / √24 )  = **8.02**\n",
    "\n",
    "From the t-table, p value is **<0.0005**.\n",
    "\n",
    "As a result, the **null hypothesis should be rejected**. Congruent words do take shorter response time to recognize its ink color than incongruent words.\n",
    "\n",
    "The result matches up with my expectations that congruent words are easier to identify its ink color."
   ]
  },
  {
   "cell_type": "markdown",
   "metadata": {},
   "source": [
    "#### 6. Optional: What do you think is responsible for the effects observed? Can you think of an alternative or similar task that would result in a similar effect? Some research about the problem will be helpful for thinking about these two questions!"
   ]
  },
  {
   "cell_type": "markdown",
   "metadata": {},
   "source": [
    "Our brain processes word faster than recognizing color. Thus, we tend to be able to identify the ink color of congruent words before we even manage to identify the ink color.\n",
    "\n",
    "One similar examplpe would reading the musical scores. Playing violin as my first instrument, I am used to using treble clef. However, I have to switch to bass clef when playing cello. Notes on the same location point to different tones oon different clefs. Coupled with different string combinations (G-D-A-E in violin vs C-G-D-A in cello), it can be quite confusing when I switch between instrument immediately. It takes a while to familiarize with different clefs and string combination."
   ]
  },
  {
   "cell_type": "markdown",
   "metadata": {},
   "source": [
    "https://s3.amazonaws.com/udacity-hosted-downloads/t-table.jpg\n",
    "https://link.springer.com/article/10.3758%2FMC.38.7.893\n",
    "https://makingmusicmag.com/explanation-clefs-treble-bass-alto-tenor\n"
   ]
  }
 ],
 "metadata": {
  "kernelspec": {
   "display_name": "Python [conda env:DAND]",
   "language": "python",
   "name": "conda-env-DAND-py"
  },
  "language_info": {
   "codemirror_mode": {
    "name": "ipython",
    "version": 2
   },
   "file_extension": ".py",
   "mimetype": "text/x-python",
   "name": "python",
   "nbconvert_exporter": "python",
   "pygments_lexer": "ipython2",
   "version": "2.7.12"
  }
 },
 "nbformat": 4,
 "nbformat_minor": 2
}
